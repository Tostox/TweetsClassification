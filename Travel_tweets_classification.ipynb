{
 "cells": [
  {
   "cell_type": "markdown",
   "metadata": {},
   "source": [
    "# Tweets Classification for recommendation engine  "
   ]
  },
  {
   "cell_type": "markdown",
   "metadata": {},
   "source": [
    "### Introduction"
   ]
  },
  {
   "cell_type": "markdown",
   "metadata": {},
   "source": [
    "The goal of this work is to build predictive models that can automatically infer people’s needs from user- generated content. Specifically, we want to analyze text data from social media in order to build a recommender system. The engine can be able to recognize a specific need or pattern inside the data and suggest a product to sell. For example, we suppose to analyze data from twitter and try to identify people who want to travel in the future (or who are a \"traveller\") and suggest them a travel-related products. "
   ]
  },
  {
   "cell_type": "markdown",
   "metadata": {},
   "source": [
    "### Training set construction"
   ]
  },
  {
   "cell_type": "markdown",
   "metadata": {},
   "source": [
    "One of the main issues in NLP problems like this is that we not have a collection of labelled examples as training set. That’s why data labeling is usually the bottleneck in developing NLP applications and keeping them up-to-date. Can be very hard to labelling a lot of tweets and the training step require a  thousands of labeled examples. Also we have to decide how extract the data from the social source in order to create a dataset that can be a \"true\" representation of a real context. "
   ]
  },
  {
   "cell_type": "markdown",
   "metadata": {},
   "source": [
    "We start by define a set of heuristic rule to use in the Twitter API to obtain the data. We use for example the high level descriptions of travel-correleted products to extract an array of keywords that can be associated to the \"traveller world\". We use this list of words combined with other specific patterns (or regular expressions) to build a set of rules. By using the Twitter API we extract some thousands of tweets travel-related and other tweet that can be labelled as \"general\" because extracted with no rules. "
   ]
  },
  {
   "cell_type": "markdown",
   "metadata": {},
   "source": [
    "Using this data we can try to build a classifier by combining weak supervision and data augmentation/pseudo labelling techniques. We follow this 4 step:\n",
    "* collect a small number of manual labeled examples;\n",
    "* use the back translation as data augmentation technique to increse the number of labeled example in the training set;\n",
    "* build a weak binary classifier using the basic ML models (Multinomial Naïve Bayes and Logistic Regression);\n",
    "* classify the data in the unlabeled set and repeat the process to improve the performance."
   ]
  },
  {
   "cell_type": "markdown",
   "metadata": {},
   "source": [
    "<img src=\"img/training_construction.png\" height=\"700\" width=\"800\">"
   ]
  },
  {
   "cell_type": "markdown",
   "metadata": {},
   "source": [
    "### Import the data"
   ]
  },
  {
   "cell_type": "code",
   "execution_count": 1,
   "metadata": {},
   "outputs": [],
   "source": [
    "import pandas as pd\n",
    "import numpy as np\n",
    "import re\n",
    "import warnings\n",
    "import os\n",
    "warnings.filterwarnings('ignore')"
   ]
  },
  {
   "cell_type": "code",
   "execution_count": 2,
   "metadata": {},
   "outputs": [],
   "source": [
    "%reload_ext autoreload\n",
    "%autoreload 2"
   ]
  },
  {
   "cell_type": "code",
   "execution_count": 3,
   "metadata": {},
   "outputs": [],
   "source": [
    "training = pd.read_csv(\"data/training_travel.csv\", index_col=0)"
   ]
  },
  {
   "cell_type": "code",
   "execution_count": 4,
   "metadata": {},
   "outputs": [
    {
     "data": {
      "text/html": [
       "<div>\n",
       "<style scoped>\n",
       "    .dataframe tbody tr th:only-of-type {\n",
       "        vertical-align: middle;\n",
       "    }\n",
       "\n",
       "    .dataframe tbody tr th {\n",
       "        vertical-align: top;\n",
       "    }\n",
       "\n",
       "    .dataframe thead th {\n",
       "        text-align: right;\n",
       "    }\n",
       "</style>\n",
       "<table border=\"1\" class=\"dataframe\">\n",
       "  <thead>\n",
       "    <tr style=\"text-align: right;\">\n",
       "      <th></th>\n",
       "      <th>index</th>\n",
       "      <th>text</th>\n",
       "      <th>label</th>\n",
       "    </tr>\n",
       "  </thead>\n",
       "  <tbody>\n",
       "    <tr>\n",
       "      <th>1897</th>\n",
       "      <td>15028</td>\n",
       "      <td>did scomo really just get a ‘lifeline bounce’ ...</td>\n",
       "      <td>general</td>\n",
       "    </tr>\n",
       "    <tr>\n",
       "      <th>1106</th>\n",
       "      <td>31355</td>\n",
       "      <td>shit tastes like GARBAGE but the trip? beautif...</td>\n",
       "      <td>general_travel</td>\n",
       "    </tr>\n",
       "    <tr>\n",
       "      <th>342</th>\n",
       "      <td>29098</td>\n",
       "      <td>Winter comes in many guises in Europe – in the...</td>\n",
       "      <td>travel</td>\n",
       "    </tr>\n",
       "    <tr>\n",
       "      <th>1926</th>\n",
       "      <td>4446</td>\n",
       "      <td>so uk is leaving eu by end of march by default...</td>\n",
       "      <td>general</td>\n",
       "    </tr>\n",
       "    <tr>\n",
       "      <th>28</th>\n",
       "      <td>37269</td>\n",
       "      <td>We shall be going! Adventure Travel Show retur...</td>\n",
       "      <td>travel</td>\n",
       "    </tr>\n",
       "  </tbody>\n",
       "</table>\n",
       "</div>"
      ],
      "text/plain": [
       "      index                                               text           label\n",
       "1897  15028  did scomo really just get a ‘lifeline bounce’ ...         general\n",
       "1106  31355  shit tastes like GARBAGE but the trip? beautif...  general_travel\n",
       "342   29098  Winter comes in many guises in Europe – in the...          travel\n",
       "1926   4446  so uk is leaving eu by end of march by default...         general\n",
       "28    37269  We shall be going! Adventure Travel Show retur...          travel"
      ]
     },
     "execution_count": 4,
     "metadata": {},
     "output_type": "execute_result"
    }
   ],
   "source": [
    "training.head()"
   ]
  },
  {
   "cell_type": "code",
   "execution_count": 5,
   "metadata": {},
   "outputs": [
    {
     "data": {
      "text/plain": [
       "(1986, 3)"
      ]
     },
     "execution_count": 5,
     "metadata": {},
     "output_type": "execute_result"
    }
   ],
   "source": [
    "training.shape"
   ]
  },
  {
   "cell_type": "markdown",
   "metadata": {},
   "source": [
    "As we can see, in this training set we have tweets labeled as \"general\" and other labeled as \"general travel\". This is due by the fact that we have some tweets in our training set that are releted to the topics \"travel\" but are not what we are searching.\n",
    "For example, some people can write about the journey of someone else, a third part like some friend or a famous person."
   ]
  },
  {
   "cell_type": "code",
   "execution_count": 6,
   "metadata": {},
   "outputs": [],
   "source": [
    "import seaborn as sns\n",
    "import matplotlib.pyplot as plt\n",
    "sns.set_style('whitegrid')"
   ]
  },
  {
   "cell_type": "code",
   "execution_count": 7,
   "metadata": {},
   "outputs": [
    {
     "data": {
      "image/png": "[encoded data removed]",
      "text/plain": [
       "<Figure size 720x504 with 1 Axes>"
      ]
     },
     "metadata": {},
     "output_type": "display_data"
    }
   ],
   "source": [
    "plt.figure(figsize=(10,7))\n",
    "sns.countplot(data=training, x='label')\n",
    "plt.show()"
   ]
  },
  {
   "cell_type": "markdown",
   "metadata": {},
   "source": [
    "### Text Cleaning and pre-processing"
   ]
  },
  {
   "cell_type": "markdown",
   "metadata": {},
   "source": [
    "For the first model we cleaned the text by removing all the special character and stopwords. Also, we extract the lemma of each tokens in the text. "
   ]
  },
  {
   "cell_type": "code",
   "execution_count": 8,
   "metadata": {},
   "outputs": [],
   "source": [
    "from mltools.textMining import TextPreprocessing"
   ]
  },
  {
   "cell_type": "code",
   "execution_count": 9,
   "metadata": {},
   "outputs": [],
   "source": [
    "tp = TextPreprocessing(lemmatization = True, remove_stopwords=True)"
   ]
  },
  {
   "cell_type": "code",
   "execution_count": 10,
   "metadata": {},
   "outputs": [
    {
     "data": {
      "text/plain": [
       "['tp_travel.pkl']"
      ]
     },
     "execution_count": 10,
     "metadata": {},
     "output_type": "execute_result"
    }
   ],
   "source": [
    "import joblib\n",
    "joblib.dump(tp, 'tp_travel.pkl')"
   ]
  },
  {
   "cell_type": "code",
   "execution_count": 10,
   "metadata": {},
   "outputs": [
    {
     "name": "stdout",
     "output_type": "stream",
     "text": [
      "Data cleaning...\n",
      "Standardization...\n",
      "Tokenization...\n",
      "Removing stopwords...\n",
      "Lemmatization...\n",
      "Finish\n",
      "CPU times: user 25min 1s, sys: 3min 36s, total: 28min 38s\n",
      "Wall time: 28min 26s\n"
     ]
    }
   ],
   "source": [
    "%time training_clean = tp.fit(training, \"text\", min_len=2)"
   ]
  },
  {
   "cell_type": "code",
   "execution_count": 11,
   "metadata": {},
   "outputs": [
    {
     "data": {
      "text/html": [
       "<div>\n",
       "<style scoped>\n",
       "    .dataframe tbody tr th:only-of-type {\n",
       "        vertical-align: middle;\n",
       "    }\n",
       "\n",
       "    .dataframe tbody tr th {\n",
       "        vertical-align: top;\n",
       "    }\n",
       "\n",
       "    .dataframe thead th {\n",
       "        text-align: right;\n",
       "    }\n",
       "</style>\n",
       "<table border=\"1\" class=\"dataframe\">\n",
       "  <thead>\n",
       "    <tr style=\"text-align: right;\">\n",
       "      <th></th>\n",
       "      <th>index</th>\n",
       "      <th>text</th>\n",
       "      <th>label</th>\n",
       "      <th>tokens</th>\n",
       "      <th>lemma</th>\n",
       "    </tr>\n",
       "  </thead>\n",
       "  <tbody>\n",
       "    <tr>\n",
       "      <th>1897</th>\n",
       "      <td>15028</td>\n",
       "      <td>did scomo really just get a  lifeline bounce  ...</td>\n",
       "      <td>general</td>\n",
       "      <td>[scomo, really, get, lifeline, bounce, polls, ...</td>\n",
       "      <td>[scomo, really, get, lifeline, bounce, poll, a...</td>\n",
       "    </tr>\n",
       "    <tr>\n",
       "      <th>1106</th>\n",
       "      <td>31355</td>\n",
       "      <td>shit tastes like garbage but the trip  beautif...</td>\n",
       "      <td>general_travel</td>\n",
       "      <td>[shit, tastes, like, garbage, trip, beautiful,...</td>\n",
       "      <td>[shit, taste, like, garbage, trip, beautiful, ...</td>\n",
       "    </tr>\n",
       "    <tr>\n",
       "      <th>342</th>\n",
       "      <td>29098</td>\n",
       "      <td>winter comes in many guises in europe   in the...</td>\n",
       "      <td>travel</td>\n",
       "      <td>[winter, comes, many, guises, europe, north, s...</td>\n",
       "      <td>[winter, come, many, guise, europe, north, ser...</td>\n",
       "    </tr>\n",
       "    <tr>\n",
       "      <th>1926</th>\n",
       "      <td>4446</td>\n",
       "      <td>so uk is leaving eu by end of march by default...</td>\n",
       "      <td>general</td>\n",
       "      <td>[leaving, end, march, default, settings, curio...</td>\n",
       "      <td>[leave, end, march, default, setting, curious,...</td>\n",
       "    </tr>\n",
       "    <tr>\n",
       "      <th>28</th>\n",
       "      <td>37269</td>\n",
       "      <td>we shall be going  adventure travel show retur...</td>\n",
       "      <td>travel</td>\n",
       "      <td>[shall, going, adventure, travel, show, return...</td>\n",
       "      <td>[shall, go, adventure, travel, show, return, o...</td>\n",
       "    </tr>\n",
       "  </tbody>\n",
       "</table>\n",
       "</div>"
      ],
      "text/plain": [
       "      index                                               text  \\\n",
       "1897  15028  did scomo really just get a  lifeline bounce  ...   \n",
       "1106  31355  shit tastes like garbage but the trip  beautif...   \n",
       "342   29098  winter comes in many guises in europe   in the...   \n",
       "1926   4446  so uk is leaving eu by end of march by default...   \n",
       "28    37269  we shall be going  adventure travel show retur...   \n",
       "\n",
       "               label                                             tokens  \\\n",
       "1897         general  [scomo, really, get, lifeline, bounce, polls, ...   \n",
       "1106  general_travel  [shit, tastes, like, garbage, trip, beautiful,...   \n",
       "342           travel  [winter, comes, many, guises, europe, north, s...   \n",
       "1926         general  [leaving, end, march, default, settings, curio...   \n",
       "28            travel  [shall, going, adventure, travel, show, return...   \n",
       "\n",
       "                                                  lemma  \n",
       "1897  [scomo, really, get, lifeline, bounce, poll, a...  \n",
       "1106  [shit, taste, like, garbage, trip, beautiful, ...  \n",
       "342   [winter, come, many, guise, europe, north, ser...  \n",
       "1926  [leave, end, march, default, setting, curious,...  \n",
       "28    [shall, go, adventure, travel, show, return, o...  "
      ]
     },
     "execution_count": 11,
     "metadata": {},
     "output_type": "execute_result"
    }
   ],
   "source": [
    "training_clean.head()"
   ]
  },
  {
   "cell_type": "markdown",
   "metadata": {},
   "source": [
    "### Train/Test (validation set or Held-out set) split"
   ]
  },
  {
   "cell_type": "markdown",
   "metadata": {},
   "source": [
    "Before starting with oversample techniques and feature extraction, is important to split the training data into two sample: one for select the best model configuration and one (the held-out) for the performance evaluation. In this case we use the 80% of our data for training and the 20% for the validation. "
   ]
  },
  {
   "cell_type": "code",
   "execution_count": 12,
   "metadata": {},
   "outputs": [],
   "source": [
    "from sklearn.model_selection import train_test_split"
   ]
  },
  {
   "cell_type": "code",
   "execution_count": 13,
   "metadata": {},
   "outputs": [],
   "source": [
    "X_train, X_test, y_train, y_test = train_test_split(training_clean, training_clean[\"label\"], \n",
    "                                                    test_size=0.2, \n",
    "                                                    random_state=40)"
   ]
  },
  {
   "cell_type": "code",
   "execution_count": 14,
   "metadata": {},
   "outputs": [
    {
     "name": "stdout",
     "output_type": "stream",
     "text": [
      "(1588, 5) (398, 5)\n"
     ]
    }
   ],
   "source": [
    "print(X_train.shape, X_test.shape)"
   ]
  },
  {
   "cell_type": "markdown",
   "metadata": {},
   "source": [
    "### Renaming the classes "
   ]
  },
  {
   "cell_type": "code",
   "execution_count": 15,
   "metadata": {},
   "outputs": [],
   "source": [
    "def rename_class(label):\n",
    "    if label == 'general_travel':\n",
    "        return 'general'\n",
    "    else:\n",
    "        return label"
   ]
  },
  {
   "cell_type": "code",
   "execution_count": 16,
   "metadata": {},
   "outputs": [],
   "source": [
    "X_train['label'] = X_train['label'].apply(rename_class)\n",
    "X_test['label'] = X_test['label'].apply(rename_class)"
   ]
  },
  {
   "cell_type": "code",
   "execution_count": 17,
   "metadata": {},
   "outputs": [],
   "source": [
    "y_train = y_train.apply(rename_class)\n",
    "y_test = y_test.apply(rename_class)"
   ]
  },
  {
   "cell_type": "code",
   "execution_count": 18,
   "metadata": {},
   "outputs": [
    {
     "data": {
      "text/plain": [
       "general    1120\n",
       "travel      468\n",
       "Name: label, dtype: int64"
      ]
     },
     "execution_count": 18,
     "metadata": {},
     "output_type": "execute_result"
    }
   ],
   "source": [
    "y_train.value_counts()"
   ]
  },
  {
   "cell_type": "code",
   "execution_count": 19,
   "metadata": {},
   "outputs": [
    {
     "data": {
      "text/plain": [
       "general    273\n",
       "travel     125\n",
       "Name: label, dtype: int64"
      ]
     },
     "execution_count": 19,
     "metadata": {},
     "output_type": "execute_result"
    }
   ],
   "source": [
    "y_test.value_counts()"
   ]
  },
  {
   "cell_type": "markdown",
   "metadata": {},
   "source": [
    "### Fitting a classifier using the augmented training set  "
   ]
  },
  {
   "cell_type": "markdown",
   "metadata": {},
   "source": [
    "When the class in our training set are unbalanced, in order to improve the performance of our classifier, it's a good choice to resample the minority class. For do this, we try to apply a data augmentation techniques. \n",
    "An effective method is to augment the training corpus with back-translations of target language sentences. In this case we use a very simplified version of this method and we select a two random samples of example and back translated these senteces in two different languages.\n",
    "Then we add these syntethic example to our training set."
   ]
  },
  {
   "cell_type": "code",
   "execution_count": 20,
   "metadata": {},
   "outputs": [],
   "source": [
    "new_examples = pd.read_csv(\"data/training_travel_bt_1_en_zh-tw.csv\", index_col=False)"
   ]
  },
  {
   "cell_type": "code",
   "execution_count": 21,
   "metadata": {},
   "outputs": [],
   "source": [
    "new_examples = new_examples[['index', 'text', 'label']].dropna()"
   ]
  },
  {
   "cell_type": "code",
   "execution_count": 22,
   "metadata": {},
   "outputs": [
    {
     "name": "stdout",
     "output_type": "stream",
     "text": [
      "Data cleaning...\n",
      "Standardization...\n",
      "Tokenization...\n",
      "Removing stopwords...\n",
      "Lemmatization...\n",
      "Finish\n",
      "CPU times: user 3min, sys: 25.8 s, total: 3min 26s\n",
      "Wall time: 1min 29s\n"
     ]
    }
   ],
   "source": [
    "%time new_examples = tp.fit(new_examples, \"text\", min_len=1)"
   ]
  },
  {
   "cell_type": "code",
   "execution_count": 23,
   "metadata": {},
   "outputs": [],
   "source": [
    "X_train_augmented = pd.concat([X_train, new_examples])"
   ]
  },
  {
   "cell_type": "code",
   "execution_count": 24,
   "metadata": {},
   "outputs": [
    {
     "name": "stdout",
     "output_type": "stream",
     "text": [
      "Data cleaning...\n",
      "Standardization...\n",
      "Tokenization...\n",
      "Removing stopwords...\n",
      "Lemmatization...\n",
      "Finish\n",
      "CPU times: user 3min 15s, sys: 28.2 s, total: 3min 44s\n",
      "Wall time: 1min 36s\n"
     ]
    }
   ],
   "source": [
    "new_examples = pd.read_csv(\"data/training_travel_bt_1_en_he.csv\", index_col=False)\n",
    "new_examples = new_examples[['index', 'text', 'label']].dropna()\n",
    "%time new_examples = tp.fit(new_examples, \"text\", min_len=1)"
   ]
  },
  {
   "cell_type": "code",
   "execution_count": 25,
   "metadata": {},
   "outputs": [],
   "source": [
    "X_train_augmented = pd.concat([X_train_augmented, new_examples])"
   ]
  },
  {
   "cell_type": "code",
   "execution_count": 26,
   "metadata": {},
   "outputs": [
    {
     "data": {
      "image/png": "[encoded data removed]",
      "text/plain": [
       "<Figure size 720x504 with 1 Axes>"
      ]
     },
     "metadata": {},
     "output_type": "display_data"
    }
   ],
   "source": [
    "plt.figure(figsize=(10,7))\n",
    "sns.countplot(data=X_train_augmented, x='label')\n",
    "plt.show()"
   ]
  },
  {
   "cell_type": "markdown",
   "metadata": {},
   "source": [
    "### Text Vectorization "
   ]
  },
  {
   "cell_type": "markdown",
   "metadata": {},
   "source": [
    "Now we want to obtain the features matrix. For our simple first model we want to use a Bag of Words representation, coding each lemma by using the TF-IDF."
   ]
  },
  {
   "cell_type": "code",
   "execution_count": 27,
   "metadata": {},
   "outputs": [],
   "source": [
    "from mltools.textMining.text_preprocessing import VectorizeData"
   ]
  },
  {
   "cell_type": "code",
   "execution_count": 28,
   "metadata": {},
   "outputs": [],
   "source": [
    "token_toVect = VectorizeData(method='tf-idf')\n",
    "train, test, vectorizer = token_toVect.fit(X_train_augmented[\"lemma\"], X_test[\"lemma\"])"
   ]
  },
  {
   "cell_type": "code",
   "execution_count": 29,
   "metadata": {},
   "outputs": [],
   "source": [
    "from sklearn.preprocessing import LabelEncoder"
   ]
  },
  {
   "cell_type": "code",
   "execution_count": 30,
   "metadata": {},
   "outputs": [],
   "source": [
    "lb = LabelEncoder()\n",
    "y_train = lb.fit_transform(X_train_augmented['label'])"
   ]
  },
  {
   "cell_type": "markdown",
   "metadata": {},
   "source": [
    "### Fittig a ML model using k-fold cross validation "
   ]
  },
  {
   "cell_type": "markdown",
   "metadata": {},
   "source": [
    "Now we can try to fit a ML model to predict the label of the given tweet using the Bag Of Word sparse matrix and TF-IDF. We test a Multinomial Naïve Bayes and a Logistic Regression on 10-fold cross validation. The best parameters configuration was obtained using a grid search and the F1 measure as loss function to maximize. "
   ]
  },
  {
   "cell_type": "code",
   "execution_count": 31,
   "metadata": {},
   "outputs": [],
   "source": [
    "from mltools.evaluateModels import CrossValidation"
   ]
  },
  {
   "cell_type": "code",
   "execution_count": 32,
   "metadata": {},
   "outputs": [],
   "source": [
    "cv = CrossValidation(models=[\"MultinomialNB\", \"LogisticRegression\"], \n",
    "                     scores = [\"auc\", \"mcc\", \"f1\", \"recall\", \"precision\"],\n",
    "                     params_file = \"./param_file.txt\")"
   ]
  },
  {
   "cell_type": "code",
   "execution_count": 33,
   "metadata": {},
   "outputs": [
    {
     "name": "stdout",
     "output_type": "stream",
     "text": [
      "Model: MultinomialNB\n",
      "Searching the best MultinomialNB with grid search cv...\n",
      "\n",
      "Best_estimator: MultinomialNB(alpha=0.1, class_prior=None, fit_prior=True)\n",
      "\n",
      "Best_scores: 0.7994459351963976\n",
      "Evaluate the best model configuration with a new cross validation...\n",
      "\n",
      "Model: LogisticRegression\n",
      "Searching the best LogisticRegression with grid search cv...\n",
      "\n",
      "Best_estimator: LogisticRegression(C=1, class_weight=None, dual=False, fit_intercept=True,\n",
      "          intercept_scaling=1, max_iter=100, multi_class='ovr', n_jobs=1,\n",
      "          penalty='l2', random_state=None, solver='liblinear', tol=0.0001,\n",
      "          verbose=0, warm_start=False)\n",
      "\n",
      "Best_scores: 0.8154035194373602\n",
      "Evaluate the best model configuration with a new cross validation...\n",
      "\n",
      "Finish\n",
      "CPU times: user 806 ms, sys: 130 ms, total: 937 ms\n",
      "Wall time: 1.23 s\n"
     ]
    }
   ],
   "source": [
    "%time res, model = cv.fit_cv(train, y_train)"
   ]
  },
  {
   "cell_type": "code",
   "execution_count": 34,
   "metadata": {},
   "outputs": [
    {
     "data": {
      "text/html": [
       "<div>\n",
       "<style scoped>\n",
       "    .dataframe tbody tr th:only-of-type {\n",
       "        vertical-align: middle;\n",
       "    }\n",
       "\n",
       "    .dataframe tbody tr th {\n",
       "        vertical-align: top;\n",
       "    }\n",
       "\n",
       "    .dataframe thead th {\n",
       "        text-align: right;\n",
       "    }\n",
       "</style>\n",
       "<table border=\"1\" class=\"dataframe\">\n",
       "  <thead>\n",
       "    <tr style=\"text-align: right;\">\n",
       "      <th></th>\n",
       "      <th>LogisticRegression</th>\n",
       "      <th>MultinomialNB</th>\n",
       "    </tr>\n",
       "  </thead>\n",
       "  <tbody>\n",
       "    <tr>\n",
       "      <th>computation_total</th>\n",
       "      <td>0.0542715</td>\n",
       "      <td>0.0378113</td>\n",
       "    </tr>\n",
       "    <tr>\n",
       "      <th>test_auc_mean</th>\n",
       "      <td>0.835612</td>\n",
       "      <td>0.801748</td>\n",
       "    </tr>\n",
       "    <tr>\n",
       "      <th>test_auc_sd</th>\n",
       "      <td>0.0630007</td>\n",
       "      <td>0.0642807</td>\n",
       "    </tr>\n",
       "    <tr>\n",
       "      <th>test_auc_ci_95%</th>\n",
       "      <td>[0.8206, 0.8506]</td>\n",
       "      <td>[0.7864, 0.8171]</td>\n",
       "    </tr>\n",
       "    <tr>\n",
       "      <th>test_auc_ci_99%</th>\n",
       "      <td>[0.814, 0.8572]</td>\n",
       "      <td>[0.7797, 0.8238]</td>\n",
       "    </tr>\n",
       "    <tr>\n",
       "      <th>train_auc_mean</th>\n",
       "      <td>0.937644</td>\n",
       "      <td>0.978924</td>\n",
       "    </tr>\n",
       "    <tr>\n",
       "      <th>train_auc_sd</th>\n",
       "      <td>0.00383383</td>\n",
       "      <td>0.00182915</td>\n",
       "    </tr>\n",
       "    <tr>\n",
       "      <th>train_auc_ci_95%</th>\n",
       "      <td>[0.9367, 0.9386]</td>\n",
       "      <td>[0.9785, 0.9794]</td>\n",
       "    </tr>\n",
       "    <tr>\n",
       "      <th>train_auc_ci_99%</th>\n",
       "      <td>[0.9363, 0.939]</td>\n",
       "      <td>[0.9783, 0.9796]</td>\n",
       "    </tr>\n",
       "    <tr>\n",
       "      <th>test_mcc_mean</th>\n",
       "      <td>0.677811</td>\n",
       "      <td>0.613374</td>\n",
       "    </tr>\n",
       "    <tr>\n",
       "      <th>test_mcc_sd</th>\n",
       "      <td>0.115897</td>\n",
       "      <td>0.13499</td>\n",
       "    </tr>\n",
       "    <tr>\n",
       "      <th>test_mcc_ci_95%</th>\n",
       "      <td>[0.6502, 0.7054]</td>\n",
       "      <td>[0.5812, 0.6456]</td>\n",
       "    </tr>\n",
       "    <tr>\n",
       "      <th>test_mcc_ci_99%</th>\n",
       "      <td>[0.6381, 0.7175]</td>\n",
       "      <td>[0.5671, 0.6596]</td>\n",
       "    </tr>\n",
       "    <tr>\n",
       "      <th>train_mcc_mean</th>\n",
       "      <td>0.875453</td>\n",
       "      <td>0.955752</td>\n",
       "    </tr>\n",
       "    <tr>\n",
       "      <th>train_mcc_sd</th>\n",
       "      <td>0.00737948</td>\n",
       "      <td>0.00372086</td>\n",
       "    </tr>\n",
       "    <tr>\n",
       "      <th>train_mcc_ci_95%</th>\n",
       "      <td>[0.8737, 0.8772]</td>\n",
       "      <td>[0.9549, 0.9566]</td>\n",
       "    </tr>\n",
       "    <tr>\n",
       "      <th>train_mcc_ci_99%</th>\n",
       "      <td>[0.8729, 0.878]</td>\n",
       "      <td>[0.9545, 0.957]</td>\n",
       "    </tr>\n",
       "    <tr>\n",
       "      <th>test_f1_mean</th>\n",
       "      <td>0.815468</td>\n",
       "      <td>0.799482</td>\n",
       "    </tr>\n",
       "    <tr>\n",
       "      <th>test_f1_sd</th>\n",
       "      <td>0.0812172</td>\n",
       "      <td>0.0697766</td>\n",
       "    </tr>\n",
       "    <tr>\n",
       "      <th>test_f1_ci_95%</th>\n",
       "      <td>[0.7961, 0.8348]</td>\n",
       "      <td>[0.7828, 0.8161]</td>\n",
       "    </tr>\n",
       "    <tr>\n",
       "      <th>test_f1_ci_99%</th>\n",
       "      <td>[0.7876, 0.8433]</td>\n",
       "      <td>[0.7756, 0.8234]</td>\n",
       "    </tr>\n",
       "    <tr>\n",
       "      <th>train_f1_mean</th>\n",
       "      <td>0.933102</td>\n",
       "      <td>0.97627</td>\n",
       "    </tr>\n",
       "    <tr>\n",
       "      <th>train_f1_sd</th>\n",
       "      <td>0.00409865</td>\n",
       "      <td>0.00198093</td>\n",
       "    </tr>\n",
       "    <tr>\n",
       "      <th>train_f1_ci_95%</th>\n",
       "      <td>[0.9321, 0.9341]</td>\n",
       "      <td>[0.9758, 0.9767]</td>\n",
       "    </tr>\n",
       "    <tr>\n",
       "      <th>train_f1_ci_99%</th>\n",
       "      <td>[0.9317, 0.9345]</td>\n",
       "      <td>[0.9756, 0.9769]</td>\n",
       "    </tr>\n",
       "    <tr>\n",
       "      <th>test_recall_mean</th>\n",
       "      <td>0.799796</td>\n",
       "      <td>0.899925</td>\n",
       "    </tr>\n",
       "    <tr>\n",
       "      <th>test_recall_sd</th>\n",
       "      <td>0.12961</td>\n",
       "      <td>0.114674</td>\n",
       "    </tr>\n",
       "    <tr>\n",
       "      <th>test_recall_ci_95%</th>\n",
       "      <td>[0.7689, 0.8307]</td>\n",
       "      <td>[0.8726, 0.9273]</td>\n",
       "    </tr>\n",
       "    <tr>\n",
       "      <th>test_recall_ci_99%</th>\n",
       "      <td>[0.7554, 0.8442]</td>\n",
       "      <td>[0.8606, 0.9392]</td>\n",
       "    </tr>\n",
       "    <tr>\n",
       "      <th>train_recall_mean</th>\n",
       "      <td>0.931934</td>\n",
       "      <td>0.998623</td>\n",
       "    </tr>\n",
       "    <tr>\n",
       "      <th>train_recall_sd</th>\n",
       "      <td>0.0066046</td>\n",
       "      <td>0.000858601</td>\n",
       "    </tr>\n",
       "    <tr>\n",
       "      <th>train_recall_ci_95%</th>\n",
       "      <td>[0.9304, 0.9335]</td>\n",
       "      <td>[0.9984, 0.9988]</td>\n",
       "    </tr>\n",
       "    <tr>\n",
       "      <th>train_recall_ci_99%</th>\n",
       "      <td>[0.9297, 0.9342]</td>\n",
       "      <td>[0.9983, 0.9989]</td>\n",
       "    </tr>\n",
       "    <tr>\n",
       "      <th>test_precision_mean</th>\n",
       "      <td>0.841104</td>\n",
       "      <td>0.72158</td>\n",
       "    </tr>\n",
       "    <tr>\n",
       "      <th>test_precision_sd</th>\n",
       "      <td>0.0300031</td>\n",
       "      <td>0.0404037</td>\n",
       "    </tr>\n",
       "    <tr>\n",
       "      <th>test_precision_ci_95%</th>\n",
       "      <td>[0.8339, 0.8483]</td>\n",
       "      <td>[0.7119, 0.7312]</td>\n",
       "    </tr>\n",
       "    <tr>\n",
       "      <th>test_precision_ci_99%</th>\n",
       "      <td>[0.8308, 0.8514]</td>\n",
       "      <td>[0.7077, 0.7354]</td>\n",
       "    </tr>\n",
       "    <tr>\n",
       "      <th>train_precision_mean</th>\n",
       "      <td>0.934293</td>\n",
       "      <td>0.9549</td>\n",
       "    </tr>\n",
       "    <tr>\n",
       "      <th>train_precision_sd</th>\n",
       "      <td>0.00278099</td>\n",
       "      <td>0.00329865</td>\n",
       "    </tr>\n",
       "    <tr>\n",
       "      <th>train_precision_ci_95%</th>\n",
       "      <td>[0.9336, 0.935]</td>\n",
       "      <td>[0.9541, 0.9557]</td>\n",
       "    </tr>\n",
       "    <tr>\n",
       "      <th>train_precision_ci_99%</th>\n",
       "      <td>[0.9333, 0.9352]</td>\n",
       "      <td>[0.9538, 0.956]</td>\n",
       "    </tr>\n",
       "  </tbody>\n",
       "</table>\n",
       "</div>"
      ],
      "text/plain": [
       "                       LogisticRegression     MultinomialNB\n",
       "computation_total               0.0542715         0.0378113\n",
       "test_auc_mean                    0.835612          0.801748\n",
       "test_auc_sd                     0.0630007         0.0642807\n",
       "test_auc_ci_95%          [0.8206, 0.8506]  [0.7864, 0.8171]\n",
       "test_auc_ci_99%           [0.814, 0.8572]  [0.7797, 0.8238]\n",
       "train_auc_mean                   0.937644          0.978924\n",
       "train_auc_sd                   0.00383383        0.00182915\n",
       "train_auc_ci_95%         [0.9367, 0.9386]  [0.9785, 0.9794]\n",
       "train_auc_ci_99%          [0.9363, 0.939]  [0.9783, 0.9796]\n",
       "test_mcc_mean                    0.677811          0.613374\n",
       "test_mcc_sd                      0.115897           0.13499\n",
       "test_mcc_ci_95%          [0.6502, 0.7054]  [0.5812, 0.6456]\n",
       "test_mcc_ci_99%          [0.6381, 0.7175]  [0.5671, 0.6596]\n",
       "train_mcc_mean                   0.875453          0.955752\n",
       "train_mcc_sd                   0.00737948        0.00372086\n",
       "train_mcc_ci_95%         [0.8737, 0.8772]  [0.9549, 0.9566]\n",
       "train_mcc_ci_99%          [0.8729, 0.878]   [0.9545, 0.957]\n",
       "test_f1_mean                     0.815468          0.799482\n",
       "test_f1_sd                      0.0812172         0.0697766\n",
       "test_f1_ci_95%           [0.7961, 0.8348]  [0.7828, 0.8161]\n",
       "test_f1_ci_99%           [0.7876, 0.8433]  [0.7756, 0.8234]\n",
       "train_f1_mean                    0.933102           0.97627\n",
       "train_f1_sd                    0.00409865        0.00198093\n",
       "train_f1_ci_95%          [0.9321, 0.9341]  [0.9758, 0.9767]\n",
       "train_f1_ci_99%          [0.9317, 0.9345]  [0.9756, 0.9769]\n",
       "test_recall_mean                 0.799796          0.899925\n",
       "test_recall_sd                    0.12961          0.114674\n",
       "test_recall_ci_95%       [0.7689, 0.8307]  [0.8726, 0.9273]\n",
       "test_recall_ci_99%       [0.7554, 0.8442]  [0.8606, 0.9392]\n",
       "train_recall_mean                0.931934          0.998623\n",
       "train_recall_sd                 0.0066046       0.000858601\n",
       "train_recall_ci_95%      [0.9304, 0.9335]  [0.9984, 0.9988]\n",
       "train_recall_ci_99%      [0.9297, 0.9342]  [0.9983, 0.9989]\n",
       "test_precision_mean              0.841104           0.72158\n",
       "test_precision_sd               0.0300031         0.0404037\n",
       "test_precision_ci_95%    [0.8339, 0.8483]  [0.7119, 0.7312]\n",
       "test_precision_ci_99%    [0.8308, 0.8514]  [0.7077, 0.7354]\n",
       "train_precision_mean             0.934293            0.9549\n",
       "train_precision_sd             0.00278099        0.00329865\n",
       "train_precision_ci_95%    [0.9336, 0.935]  [0.9541, 0.9557]\n",
       "train_precision_ci_99%   [0.9333, 0.9352]   [0.9538, 0.956]"
      ]
     },
     "execution_count": 34,
     "metadata": {},
     "output_type": "execute_result"
    }
   ],
   "source": [
    "res"
   ]
  },
  {
   "cell_type": "markdown",
   "metadata": {},
   "source": [
    "### Evaluate the Logistic model on held-out set"
   ]
  },
  {
   "cell_type": "code",
   "execution_count": 35,
   "metadata": {},
   "outputs": [
    {
     "data": {
      "image/png": "[encoded data removed]",
      "text/plain": [
       "<Figure size 720x504 with 1 Axes>"
      ]
     },
     "metadata": {},
     "output_type": "display_data"
    }
   ],
   "source": [
    "plt.figure(figsize=(10,7))\n",
    "sns.countplot(data=X_test, x='label')\n",
    "plt.show()"
   ]
  },
  {
   "cell_type": "code",
   "execution_count": 36,
   "metadata": {},
   "outputs": [],
   "source": [
    "y_test = lb.fit_transform(y_test)"
   ]
  },
  {
   "cell_type": "code",
   "execution_count": 37,
   "metadata": {},
   "outputs": [
    {
     "name": "stdout",
     "output_type": "stream",
     "text": [
      "F1 Logistic Regression su test set: 0.7426470588235294\n",
      "AUC Logistic Regression su test set: 0.8197509157509157\n",
      "MCC Logistic Regression su test set: 0.6150105906714609\n",
      "Precision Logistic Regression su test set: 0.6870748299319728\n"
     ]
    }
   ],
   "source": [
    "from sklearn.metrics import roc_auc_score, f1_score, precision_score, matthews_corrcoef\n",
    "\n",
    "lr = model['LogisticRegression']\n",
    "y_predicted = lr.predict(test)\n",
    "\n",
    "print(\"F1 Logistic Regression on test set:\", f1_score(y_test, y_predicted))\n",
    "print(\"AUC Logistic Regression on test set:\", roc_auc_score(y_test, y_predicted))\n",
    "print(\"MCC Logistic Regression on test set:\", matthews_corrcoef(y_test, y_predicted))\n",
    "print(\"Precision Logistic Regression on test set:\", precision_score(y_test, y_predicted))"
   ]
  },
  {
   "cell_type": "markdown",
   "metadata": {},
   "source": [
    "### Evaluate the confidence of the model "
   ]
  },
  {
   "cell_type": "markdown",
   "metadata": {},
   "source": [
    "As we can see above, using this simple approach and a Logistic Regression model, we are able to obtain a good result (0.74 of f1 score). Now it's time to understand if the behavior of the model is correct. For do this, we can analyze the confidence of the model (calculated as the difference of the probabilities for each of the two class) and the features importance. "
   ]
  },
  {
   "cell_type": "code",
   "execution_count": 38,
   "metadata": {},
   "outputs": [],
   "source": [
    "prob = lr.predict_proba(train)"
   ]
  },
  {
   "cell_type": "code",
   "execution_count": 39,
   "metadata": {},
   "outputs": [],
   "source": [
    "confidence_score = prob[:,1] - prob[:,0]"
   ]
  },
  {
   "cell_type": "code",
   "execution_count": 40,
   "metadata": {},
   "outputs": [],
   "source": [
    "df = X_train_augmented.copy()\n",
    "df['score'] = confidence_score"
   ]
  },
  {
   "cell_type": "code",
   "execution_count": 41,
   "metadata": {},
   "outputs": [
    {
     "data": {
      "text/plain": [
       "<matplotlib.axes._subplots.AxesSubplot at 0x1a37cb16d8>"
      ]
     },
     "execution_count": 41,
     "metadata": {},
     "output_type": "execute_result"
    },
    {
     "data": {
      "image/png": "[encoded data removed]",
      "text/plain": [
       "<Figure size 720x432 with 1 Axes>"
      ]
     },
     "metadata": {},
     "output_type": "display_data"
    }
   ],
   "source": [
    "plt.figure(figsize=(10,6))\n",
    "sns.distplot(confidence_score, kde=False, bins=20)"
   ]
  },
  {
   "cell_type": "markdown",
   "metadata": {},
   "source": [
    "From the distribution plot above, it's clear that the model are not much \"confident\" to assing the label 1 (travel, suggest the item). We have a lot of examples in a zone of uncertainty. If we analyze the distribution in the validation set (that are more unbalanced) we observe that the uncertainty of our model is high. "
   ]
  },
  {
   "cell_type": "code",
   "execution_count": 42,
   "metadata": {},
   "outputs": [],
   "source": [
    "prob = lr.predict_proba(test)"
   ]
  },
  {
   "cell_type": "code",
   "execution_count": 43,
   "metadata": {},
   "outputs": [],
   "source": [
    "confidence_score = prob[:,1] - prob[:,0]"
   ]
  },
  {
   "cell_type": "code",
   "execution_count": 44,
   "metadata": {},
   "outputs": [],
   "source": [
    "df = X_test.copy()\n",
    "df['score'] = confidence_score\n",
    "df['label_predicted'] = y_predicted"
   ]
  },
  {
   "cell_type": "code",
   "execution_count": 45,
   "metadata": {},
   "outputs": [
    {
     "data": {
      "text/plain": [
       "<matplotlib.axes._subplots.AxesSubplot at 0x1a37758390>"
      ]
     },
     "execution_count": 45,
     "metadata": {},
     "output_type": "execute_result"
    },
    {
     "data": {
      "image/png": "[encoded data removed]",
      "text/plain": [
       "<Figure size 720x432 with 1 Axes>"
      ]
     },
     "metadata": {},
     "output_type": "display_data"
    }
   ],
   "source": [
    "plt.figure(figsize=(10,6))\n",
    "sns.distplot(confidence_score, kde=False, bins=20)"
   ]
  },
  {
   "cell_type": "markdown",
   "metadata": {},
   "source": [
    "### Feature Importance "
   ]
  },
  {
   "cell_type": "markdown",
   "metadata": {},
   "source": [
    "The features importance show us that the model takes as important features some reasonable words and others that probabily come from some bias inside the data used for the training (for example \"disney\" or \"japan\"). So, starting from this Logistic regression model, we want to improve the strength of our algorithm. "
   ]
  },
  {
   "cell_type": "code",
   "execution_count": 46,
   "metadata": {},
   "outputs": [],
   "source": [
    "from mltools.textMining import *"
   ]
  },
  {
   "cell_type": "code",
   "execution_count": 47,
   "metadata": {},
   "outputs": [
    {
     "data": {
      "text/plain": [
       "{0: {'bottom': [(-0.7362261004274654, 'party'),\n",
       "   (-0.7413033131001128, 'okay'),\n",
       "   (-0.7466894511714356, 'could'),\n",
       "   (-0.7765496522319587, 'safe'),\n",
       "   (-0.7971402549667075, 'literally'),\n",
       "   (-0.7999117812356316, 'someone'),\n",
       "   (-0.805524624118541, 'eat'),\n",
       "   (-0.8210619103066288, 'president'),\n",
       "   (-0.8261008891650106, 'game'),\n",
       "   (-0.8377570140314986, 'smile'),\n",
       "   (-0.8538097197224855, 'amp'),\n",
       "   (-0.8686134335368486, 'run'),\n",
       "   (-0.8790230767614244, 'group'),\n",
       "   (-0.8805683790151752, 'show'),\n",
       "   (-0.8842649489147846, 'people'),\n",
       "   (-0.9727614475107754, 'trump'),\n",
       "   (-0.9783424966100328, 'kid'),\n",
       "   (-1.0062252313696267, 'help'),\n",
       "   (-1.0159630023461117, 'read'),\n",
       "   (-1.246413228665031, 'way')],\n",
       "  'tops': [(1.3488328281834518, 'need'),\n",
       "   (1.3667854544867504, 'love'),\n",
       "   (1.3683216650425765, 'flight'),\n",
       "   (1.417700065269185, 'disney'),\n",
       "   (1.4671663809326094, 'thank'),\n",
       "   (1.4857021969119637, 'planning'),\n",
       "   (1.5034427945671383, 'visit'),\n",
       "   (1.532111177627194, 'plane'),\n",
       "   (1.5412875247088196, 'next'),\n",
       "   (1.6129987440791098, 'airport'),\n",
       "   (1.6262034480841479, 'tomorrow'),\n",
       "   (1.6563843415199733, 'japan'),\n",
       "   (1.6803821586044227, 'place'),\n",
       "   (1.7879125354913052, 'city'),\n",
       "   (1.814725084046841, 'want'),\n",
       "   (1.9631990961181416, 'year'),\n",
       "   (2.7574065769008307, 'plan'),\n",
       "   (3.9299446801416473, 'go'),\n",
       "   (6.316271130134115, 'travel'),\n",
       "   (6.769340999596881, 'trip')]}}"
      ]
     },
     "execution_count": 47,
     "metadata": {},
     "output_type": "execute_result"
    }
   ],
   "source": [
    "importance = get_most_important_features(vectorizer, lr, n=20)\n",
    "importance"
   ]
  },
  {
   "cell_type": "markdown",
   "metadata": {},
   "source": [
    "# Pseudo-Labelling"
   ]
  },
  {
   "cell_type": "markdown",
   "metadata": {},
   "source": [
    "In order to apply any supervised learning algorithm we need more data to build a robust model. To solve these type of problems, we define a different type of learning known as semi-supervised learning, which is used both labelled data (supervised learning) and unlabelled data (unsupervised learning). In pseudo-labelling, instead of manually labeling the unlabelled data, we give approximate labels on the basis of the labelled data. Adding unlabelled data, the decision boundary of our model has become more accurate."
   ]
  },
  {
   "cell_type": "markdown",
   "metadata": {},
   "source": [
    "<img src=\"img/pseudo_labelling.png\" height=\"500\" width=\"500\">"
   ]
  },
  {
   "cell_type": "markdown",
   "metadata": {},
   "source": [
    "Due to the computational cost of the lemmatization step, we have previously extract a sample of 80k examples (for 40k the lemmatization take about 8 hours on MacBook Pro with Intel i9):"
   ]
  },
  {
   "cell_type": "code",
   "execution_count": 48,
   "metadata": {},
   "outputs": [],
   "source": [
    "unlabeled_data_1 = pd.read_csv('data/unlabeled_lemma_40k.csv', index_col=0)\n",
    "unlabeled_data_2 = pd.read_csv('data/unlabeled_lemma_40k_2.csv', index_col=0)"
   ]
  },
  {
   "cell_type": "code",
   "execution_count": 49,
   "metadata": {},
   "outputs": [],
   "source": [
    "unlabeled_data = pd.concat([unlabeled_data_1, unlabeled_data_2])"
   ]
  },
  {
   "cell_type": "code",
   "execution_count": 50,
   "metadata": {},
   "outputs": [],
   "source": [
    "feature_matrix  = vectorizer.transform(unlabeled_data[\"lemma\"].apply(str))"
   ]
  },
  {
   "cell_type": "code",
   "execution_count": 51,
   "metadata": {},
   "outputs": [],
   "source": [
    "prob = lr.predict_proba(feature_matrix)"
   ]
  },
  {
   "cell_type": "code",
   "execution_count": 52,
   "metadata": {},
   "outputs": [],
   "source": [
    "unlabeled_data['confidence_score'] = prob[:,1] - prob[:,0]"
   ]
  },
  {
   "cell_type": "markdown",
   "metadata": {},
   "source": [
    "### Extract a new sample for training "
   ]
  },
  {
   "cell_type": "markdown",
   "metadata": {},
   "source": [
    "In order to reduce the noise inside the training set, we sample only the examples that have a confidence score greater than 0.5 (in this way we are sure to increase the precision of our model). "
   ]
  },
  {
   "cell_type": "code",
   "execution_count": 53,
   "metadata": {},
   "outputs": [],
   "source": [
    "travel_sample = unlabeled_data[unlabeled_data['confidence_score'] > 0.5]"
   ]
  },
  {
   "cell_type": "code",
   "execution_count": 54,
   "metadata": {},
   "outputs": [
    {
     "data": {
      "text/plain": [
       "(2723, 5)"
      ]
     },
     "execution_count": 54,
     "metadata": {},
     "output_type": "execute_result"
    }
   ],
   "source": [
    "travel_sample.shape"
   ]
  },
  {
   "cell_type": "code",
   "execution_count": 55,
   "metadata": {},
   "outputs": [
    {
     "data": {
      "text/html": [
       "<div>\n",
       "<style scoped>\n",
       "    .dataframe tbody tr th:only-of-type {\n",
       "        vertical-align: middle;\n",
       "    }\n",
       "\n",
       "    .dataframe tbody tr th {\n",
       "        vertical-align: top;\n",
       "    }\n",
       "\n",
       "    .dataframe thead th {\n",
       "        text-align: right;\n",
       "    }\n",
       "</style>\n",
       "<table border=\"1\" class=\"dataframe\">\n",
       "  <thead>\n",
       "    <tr style=\"text-align: right;\">\n",
       "      <th></th>\n",
       "      <th>index</th>\n",
       "      <th>text</th>\n",
       "      <th>tokens</th>\n",
       "      <th>lemma</th>\n",
       "      <th>confidence_score</th>\n",
       "    </tr>\n",
       "  </thead>\n",
       "  <tbody>\n",
       "    <tr>\n",
       "      <th>16161</th>\n",
       "      <td>105197</td>\n",
       "      <td>i d love to make that trip again</td>\n",
       "      <td>['love', 'make', 'trip']</td>\n",
       "      <td>['love', 'make', 'trip']</td>\n",
       "      <td>0.910023</td>\n",
       "    </tr>\n",
       "    <tr>\n",
       "      <th>5148</th>\n",
       "      <td>14864</td>\n",
       "      <td>i just realized i m gonna be traveling to new ...</td>\n",
       "      <td>['realized', 'gonna', 'traveling', 'new', 'pla...</td>\n",
       "      <td>['realize', 'go', 'to', 'travel', 'new', 'plac...</td>\n",
       "      <td>0.858341</td>\n",
       "    </tr>\n",
       "    <tr>\n",
       "      <th>3276</th>\n",
       "      <td>89145</td>\n",
       "      <td>foolish heroes  my true plan is for the next w...</td>\n",
       "      <td>['foolish', 'heroes', 'true', 'plan', 'next', ...</td>\n",
       "      <td>['foolish', 'hero', 'true', 'plan', 'next', 'w...</td>\n",
       "      <td>0.662962</td>\n",
       "    </tr>\n",
       "    <tr>\n",
       "      <th>15531</th>\n",
       "      <td>38623</td>\n",
       "      <td>makes sense  i m in denver international twic...</td>\n",
       "      <td>['makes', 'sense', 'denver', 'international', ...</td>\n",
       "      <td>['make', 'sense', 'denver', 'international', '...</td>\n",
       "      <td>0.670047</td>\n",
       "    </tr>\n",
       "    <tr>\n",
       "      <th>35240</th>\n",
       "      <td>63770</td>\n",
       "      <td>went on a road trip with a friend who is...</td>\n",
       "      <td>['went', 'road', 'trip', 'friend', 'white', 'm...</td>\n",
       "      <td>['go', 'road', 'trip', 'friend', 'white', 'mal...</td>\n",
       "      <td>0.627472</td>\n",
       "    </tr>\n",
       "  </tbody>\n",
       "</table>\n",
       "</div>"
      ],
      "text/plain": [
       "        index                                               text  \\\n",
       "16161  105197                   i d love to make that trip again   \n",
       "5148    14864  i just realized i m gonna be traveling to new ...   \n",
       "3276    89145  foolish heroes  my true plan is for the next w...   \n",
       "15531   38623   makes sense  i m in denver international twic...   \n",
       "35240   63770        went on a road trip with a friend who is...   \n",
       "\n",
       "                                                  tokens  \\\n",
       "16161                           ['love', 'make', 'trip']   \n",
       "5148   ['realized', 'gonna', 'traveling', 'new', 'pla...   \n",
       "3276   ['foolish', 'heroes', 'true', 'plan', 'next', ...   \n",
       "15531  ['makes', 'sense', 'denver', 'international', ...   \n",
       "35240  ['went', 'road', 'trip', 'friend', 'white', 'm...   \n",
       "\n",
       "                                                   lemma  confidence_score  \n",
       "16161                           ['love', 'make', 'trip']          0.910023  \n",
       "5148   ['realize', 'go', 'to', 'travel', 'new', 'plac...          0.858341  \n",
       "3276   ['foolish', 'hero', 'true', 'plan', 'next', 'w...          0.662962  \n",
       "15531  ['make', 'sense', 'denver', 'international', '...          0.670047  \n",
       "35240  ['go', 'road', 'trip', 'friend', 'white', 'mal...          0.627472  "
      ]
     },
     "execution_count": 55,
     "metadata": {},
     "output_type": "execute_result"
    }
   ],
   "source": [
    "travel_sample.head()"
   ]
  },
  {
   "cell_type": "code",
   "execution_count": 56,
   "metadata": {},
   "outputs": [
    {
     "data": {
      "text/plain": [
       "' makes sense  i m in denver international twice a year and i never seem to have the time to make sure i see them  but i had some time to spare this trip  i only found two  hoping to see the third next time '"
      ]
     },
     "execution_count": 56,
     "metadata": {},
     "output_type": "execute_result"
    }
   ],
   "source": [
    "travel_sample['text'].iloc[3]"
   ]
  },
  {
   "cell_type": "code",
   "execution_count": 57,
   "metadata": {},
   "outputs": [],
   "source": [
    "general_sample = unlabeled_data[unlabeled_data['confidence_score'] < -0.6]"
   ]
  },
  {
   "cell_type": "markdown",
   "metadata": {},
   "source": [
    "# Fitting a new model using the new labelled data"
   ]
  },
  {
   "cell_type": "markdown",
   "metadata": {},
   "source": [
    "### Cleaning the training data"
   ]
  },
  {
   "cell_type": "markdown",
   "metadata": {},
   "source": [
    "For reduce again the noise inside the data, we can apply some heuristic rules: for example is possible that one of the most predictive features, the word \"trip\", can be associated to the consuming of drugs. We want to remove this row from our training set. "
   ]
  },
  {
   "cell_type": "code",
   "execution_count": 58,
   "metadata": {},
   "outputs": [],
   "source": [
    "import regex as re"
   ]
  },
  {
   "cell_type": "code",
   "execution_count": 59,
   "metadata": {},
   "outputs": [],
   "source": [
    "rules = r\"\\b(acid trip|drug trip|mental trip|no money)\"\n",
    "\n",
    "def find_false_positive(tweet_text):\n",
    "    return True if re.search(rules, tweet_text) else False"
   ]
  },
  {
   "cell_type": "code",
   "execution_count": 60,
   "metadata": {},
   "outputs": [],
   "source": [
    "travel_sample['to_drop'] = travel_sample['text'].apply(find_false_positive)"
   ]
  },
  {
   "cell_type": "code",
   "execution_count": 61,
   "metadata": {},
   "outputs": [
    {
     "data": {
      "text/plain": [
       "(6, 6)"
      ]
     },
     "execution_count": 61,
     "metadata": {},
     "output_type": "execute_result"
    }
   ],
   "source": [
    "travel_sample[travel_sample['to_drop']].shape"
   ]
  },
  {
   "cell_type": "code",
   "execution_count": 62,
   "metadata": {},
   "outputs": [
    {
     "data": {
      "text/html": [
       "<div>\n",
       "<style scoped>\n",
       "    .dataframe tbody tr th:only-of-type {\n",
       "        vertical-align: middle;\n",
       "    }\n",
       "\n",
       "    .dataframe tbody tr th {\n",
       "        vertical-align: top;\n",
       "    }\n",
       "\n",
       "    .dataframe thead th {\n",
       "        text-align: right;\n",
       "    }\n",
       "</style>\n",
       "<table border=\"1\" class=\"dataframe\">\n",
       "  <thead>\n",
       "    <tr style=\"text-align: right;\">\n",
       "      <th></th>\n",
       "      <th>index</th>\n",
       "      <th>text</th>\n",
       "      <th>tokens</th>\n",
       "      <th>lemma</th>\n",
       "      <th>confidence_score</th>\n",
       "      <th>to_drop</th>\n",
       "    </tr>\n",
       "  </thead>\n",
       "  <tbody>\n",
       "    <tr>\n",
       "      <th>15542</th>\n",
       "      <td>60508</td>\n",
       "      <td>like last week  pretty sure this was not an ac...</td>\n",
       "      <td>['like', 'last', 'week', 'pretty', 'sure', 'ac...</td>\n",
       "      <td>['like', 'last', 'week', 'pretty', 'sure', 'ac...</td>\n",
       "      <td>0.567234</td>\n",
       "      <td>True</td>\n",
       "    </tr>\n",
       "    <tr>\n",
       "      <th>13162</th>\n",
       "      <td>38700</td>\n",
       "      <td>i love to go  but i have no money to travel ...</td>\n",
       "      <td>['love', 'money', 'travel', 'far']</td>\n",
       "      <td>['love', 'money', 'travel', 'far']</td>\n",
       "      <td>0.620155</td>\n",
       "      <td>True</td>\n",
       "    </tr>\n",
       "    <tr>\n",
       "      <th>1763</th>\n",
       "      <td>52552</td>\n",
       "      <td>i ve had an acid trip like that</td>\n",
       "      <td>['acid', 'trip', 'like']</td>\n",
       "      <td>['acid', 'trip', 'like']</td>\n",
       "      <td>0.926982</td>\n",
       "      <td>True</td>\n",
       "    </tr>\n",
       "    <tr>\n",
       "      <th>7850</th>\n",
       "      <td>58784</td>\n",
       "      <td>it s like a mini acid trip for a sec there</td>\n",
       "      <td>['like', 'mini', 'acid', 'trip', 'sec']</td>\n",
       "      <td>['like', 'mini', 'acid', 'trip', 'sec']</td>\n",
       "      <td>0.521310</td>\n",
       "      <td>True</td>\n",
       "    </tr>\n",
       "    <tr>\n",
       "      <th>37261</th>\n",
       "      <td>54995</td>\n",
       "      <td>i will and in the meantime it s like i m on a...</td>\n",
       "      <td>['meantime', 'like', 'acid', 'trip', 'somethin...</td>\n",
       "      <td>['meantime', 'like', 'acid', 'trip', 'somethin...</td>\n",
       "      <td>0.541764</td>\n",
       "      <td>True</td>\n",
       "    </tr>\n",
       "  </tbody>\n",
       "</table>\n",
       "</div>"
      ],
      "text/plain": [
       "       index                                               text  \\\n",
       "15542  60508  like last week  pretty sure this was not an ac...   \n",
       "13162  38700    i love to go  but i have no money to travel ...   \n",
       "1763   52552                    i ve had an acid trip like that   \n",
       "7850   58784        it s like a mini acid trip for a sec there    \n",
       "37261  54995   i will and in the meantime it s like i m on a...   \n",
       "\n",
       "                                                  tokens  \\\n",
       "15542  ['like', 'last', 'week', 'pretty', 'sure', 'ac...   \n",
       "13162                 ['love', 'money', 'travel', 'far']   \n",
       "1763                            ['acid', 'trip', 'like']   \n",
       "7850             ['like', 'mini', 'acid', 'trip', 'sec']   \n",
       "37261  ['meantime', 'like', 'acid', 'trip', 'somethin...   \n",
       "\n",
       "                                                   lemma  confidence_score  \\\n",
       "15542  ['like', 'last', 'week', 'pretty', 'sure', 'ac...          0.567234   \n",
       "13162                 ['love', 'money', 'travel', 'far']          0.620155   \n",
       "1763                            ['acid', 'trip', 'like']          0.926982   \n",
       "7850             ['like', 'mini', 'acid', 'trip', 'sec']          0.521310   \n",
       "37261  ['meantime', 'like', 'acid', 'trip', 'somethin...          0.541764   \n",
       "\n",
       "       to_drop  \n",
       "15542     True  \n",
       "13162     True  \n",
       "1763      True  \n",
       "7850      True  \n",
       "37261     True  "
      ]
     },
     "execution_count": 62,
     "metadata": {},
     "output_type": "execute_result"
    }
   ],
   "source": [
    "travel_sample[travel_sample['to_drop']].head()"
   ]
  },
  {
   "cell_type": "code",
   "execution_count": 63,
   "metadata": {},
   "outputs": [],
   "source": [
    "travel_sample = travel_sample[travel_sample['to_drop'] == False]"
   ]
  },
  {
   "cell_type": "code",
   "execution_count": 64,
   "metadata": {},
   "outputs": [],
   "source": [
    "max_len = 4\n",
    "\n",
    "def find_short_tweets(tweet_text):\n",
    "    return True if len(tweet_text.split(\" \"))<= max_len else False"
   ]
  },
  {
   "cell_type": "code",
   "execution_count": 65,
   "metadata": {},
   "outputs": [],
   "source": [
    "travel_sample['too_short'] = travel_sample['text'].apply(find_false_positive)"
   ]
  },
  {
   "cell_type": "code",
   "execution_count": 66,
   "metadata": {},
   "outputs": [
    {
     "data": {
      "text/plain": [
       "(0, 7)"
      ]
     },
     "execution_count": 66,
     "metadata": {},
     "output_type": "execute_result"
    }
   ],
   "source": [
    "travel_sample[travel_sample['too_short']].shape"
   ]
  },
  {
   "cell_type": "code",
   "execution_count": 67,
   "metadata": {},
   "outputs": [],
   "source": [
    "df_travel = travel_sample[['index', 'text', 'tokens', 'lemma']]\n",
    "df_travel['label'] = 'travel'"
   ]
  },
  {
   "cell_type": "code",
   "execution_count": 68,
   "metadata": {},
   "outputs": [],
   "source": [
    "df_general = general_sample[['index', 'text', 'tokens', 'lemma']]\n",
    "df_general['label'] = 'general'"
   ]
  },
  {
   "cell_type": "code",
   "execution_count": 69,
   "metadata": {},
   "outputs": [],
   "source": [
    "pseudolabel_training = pd.concat([df_general.sample(n=3000, random_state=123), df_travel])"
   ]
  },
  {
   "cell_type": "markdown",
   "metadata": {},
   "source": [
    "### Building the final model "
   ]
  },
  {
   "cell_type": "code",
   "execution_count": 70,
   "metadata": {},
   "outputs": [],
   "source": [
    "new_test = X_train_augmented.sample(n=400, random_state=123)"
   ]
  },
  {
   "cell_type": "code",
   "execution_count": 71,
   "metadata": {},
   "outputs": [
    {
     "data": {
      "image/png": "[encoded data removed]",
      "text/plain": [
       "<Figure size 720x504 with 1 Axes>"
      ]
     },
     "metadata": {},
     "output_type": "display_data"
    }
   ],
   "source": [
    "plt.figure(figsize=(10,7))\n",
    "sns.countplot(data=new_test, x='label')\n",
    "plt.show()"
   ]
  },
  {
   "cell_type": "code",
   "execution_count": 72,
   "metadata": {},
   "outputs": [],
   "source": [
    "training = pd.concat([X_train_augmented[~X_train_augmented['index'].isin(new_test['index'])], X_test])"
   ]
  },
  {
   "cell_type": "code",
   "execution_count": 73,
   "metadata": {},
   "outputs": [
    {
     "data": {
      "text/html": [
       "<div>\n",
       "<style scoped>\n",
       "    .dataframe tbody tr th:only-of-type {\n",
       "        vertical-align: middle;\n",
       "    }\n",
       "\n",
       "    .dataframe tbody tr th {\n",
       "        vertical-align: top;\n",
       "    }\n",
       "\n",
       "    .dataframe thead th {\n",
       "        text-align: right;\n",
       "    }\n",
       "</style>\n",
       "<table border=\"1\" class=\"dataframe\">\n",
       "  <thead>\n",
       "    <tr style=\"text-align: right;\">\n",
       "      <th></th>\n",
       "      <th>index</th>\n",
       "      <th>text</th>\n",
       "      <th>tokens</th>\n",
       "      <th>lemma</th>\n",
       "      <th>label</th>\n",
       "    </tr>\n",
       "  </thead>\n",
       "  <tbody>\n",
       "    <tr>\n",
       "      <th>10332</th>\n",
       "      <td>11884</td>\n",
       "      <td>why people think prince philip amp     s car c...</td>\n",
       "      <td>['people', 'think', 'prince', 'philip', 'amp',...</td>\n",
       "      <td>['people', 'think', 'prince', 'philip', 'amp',...</td>\n",
       "      <td>general</td>\n",
       "    </tr>\n",
       "    <tr>\n",
       "      <th>36522</th>\n",
       "      <td>42055</td>\n",
       "      <td>agency  orange county sheriff s department cal...</td>\n",
       "      <td>['agency', 'orange', 'county', 'sheriff', 'dep...</td>\n",
       "      <td>['agency', 'orange', 'county', 'sheriff', 'dep...</td>\n",
       "      <td>general</td>\n",
       "    </tr>\n",
       "    <tr>\n",
       "      <th>3988</th>\n",
       "      <td>4577</td>\n",
       "      <td>lost my husband in car crash  then my job  a...</td>\n",
       "      <td>['lost', 'husband', 'car', 'crash', 'job', 'am...</td>\n",
       "      <td>['lose', 'husband', 'car', 'crash', 'job', 'am...</td>\n",
       "      <td>general</td>\n",
       "    </tr>\n",
       "    <tr>\n",
       "      <th>28752</th>\n",
       "      <td>33109</td>\n",
       "      <td>i     near i    shut down in both directions a...</td>\n",
       "      <td>['near', 'shut', 'directions', 'multi', 'vehic...</td>\n",
       "      <td>['near', 'shut', 'direction', 'multi', 'vehicl...</td>\n",
       "      <td>general</td>\n",
       "    </tr>\n",
       "    <tr>\n",
       "      <th>26960</th>\n",
       "      <td>31059</td>\n",
       "      <td>my goodness  labour s richard burgon has given...</td>\n",
       "      <td>['goodness', 'labour', 'richard', 'burgon', 'g...</td>\n",
       "      <td>['goodness', 'labour', 'richard', 'burgon', 'g...</td>\n",
       "      <td>general</td>\n",
       "    </tr>\n",
       "  </tbody>\n",
       "</table>\n",
       "</div>"
      ],
      "text/plain": [
       "       index                                               text  \\\n",
       "10332  11884  why people think prince philip amp     s car c...   \n",
       "36522  42055  agency  orange county sheriff s department cal...   \n",
       "3988    4577    lost my husband in car crash  then my job  a...   \n",
       "28752  33109  i     near i    shut down in both directions a...   \n",
       "26960  31059  my goodness  labour s richard burgon has given...   \n",
       "\n",
       "                                                  tokens  \\\n",
       "10332  ['people', 'think', 'prince', 'philip', 'amp',...   \n",
       "36522  ['agency', 'orange', 'county', 'sheriff', 'dep...   \n",
       "3988   ['lost', 'husband', 'car', 'crash', 'job', 'am...   \n",
       "28752  ['near', 'shut', 'directions', 'multi', 'vehic...   \n",
       "26960  ['goodness', 'labour', 'richard', 'burgon', 'g...   \n",
       "\n",
       "                                                   lemma    label  \n",
       "10332  ['people', 'think', 'prince', 'philip', 'amp',...  general  \n",
       "36522  ['agency', 'orange', 'county', 'sheriff', 'dep...  general  \n",
       "3988   ['lose', 'husband', 'car', 'crash', 'job', 'am...  general  \n",
       "28752  ['near', 'shut', 'direction', 'multi', 'vehicl...  general  \n",
       "26960  ['goodness', 'labour', 'richard', 'burgon', 'g...  general  "
      ]
     },
     "execution_count": 73,
     "metadata": {},
     "output_type": "execute_result"
    }
   ],
   "source": [
    "pseudolabel_training.head()"
   ]
  },
  {
   "cell_type": "code",
   "execution_count": 74,
   "metadata": {},
   "outputs": [],
   "source": [
    "all_data = pd.concat([training, pseudolabel_training])"
   ]
  },
  {
   "cell_type": "code",
   "execution_count": 75,
   "metadata": {},
   "outputs": [
    {
     "data": {
      "text/plain": [
       "(7585, 5)"
      ]
     },
     "execution_count": 75,
     "metadata": {},
     "output_type": "execute_result"
    }
   ],
   "source": [
    "all_data.shape"
   ]
  },
  {
   "cell_type": "code",
   "execution_count": 76,
   "metadata": {},
   "outputs": [
    {
     "data": {
      "image/png": "[encoded data removed]",
      "text/plain": [
       "<Figure size 720x504 with 1 Axes>"
      ]
     },
     "metadata": {},
     "output_type": "display_data"
    }
   ],
   "source": [
    "plt.figure(figsize=(10,7))\n",
    "sns.countplot(data=all_data, x='label')\n",
    "plt.show()"
   ]
  },
  {
   "cell_type": "markdown",
   "metadata": {},
   "source": [
    "### Evaluate different Features set"
   ]
  },
  {
   "cell_type": "markdown",
   "metadata": {},
   "source": [
    "For this final task, we want to analyze different feature set in addition to the BoW representation after the lemmatization step. We consider a binary representation of the tokens extracted (including the stopwords) and the skip gram matrix. "
   ]
  },
  {
   "cell_type": "code",
   "execution_count": 77,
   "metadata": {},
   "outputs": [],
   "source": [
    "tp = TextPreprocessing(lemmatization = False, remove_stopwords=False)"
   ]
  },
  {
   "cell_type": "code",
   "execution_count": 78,
   "metadata": {},
   "outputs": [
    {
     "name": "stdout",
     "output_type": "stream",
     "text": [
      "Data cleaning...\n",
      "Standardization...\n",
      "Tokenization...\n",
      "Finish\n",
      "CPU times: user 153 ms, sys: 3.55 ms, total: 156 ms\n",
      "Wall time: 155 ms\n"
     ]
    }
   ],
   "source": [
    "%time all_data = tp.fit(all_data, \"text\", min_len=2)"
   ]
  },
  {
   "cell_type": "code",
   "execution_count": 79,
   "metadata": {},
   "outputs": [],
   "source": [
    "import functools\n",
    "from nltk.util import skipgrams "
   ]
  },
  {
   "cell_type": "code",
   "execution_count": 80,
   "metadata": {},
   "outputs": [],
   "source": [
    "skipper = functools.partial(skipgrams, n=2, k=2) "
   ]
  },
  {
   "cell_type": "code",
   "execution_count": 81,
   "metadata": {},
   "outputs": [],
   "source": [
    "token_toVect = VectorizeData(method='binary')\n",
    "train_gram, vectorizer_gram = token_toVect.fit(all_data[\"tokens\"], skipper=skipper)"
   ]
  },
  {
   "cell_type": "code",
   "execution_count": 82,
   "metadata": {},
   "outputs": [],
   "source": [
    "token_toVect = VectorizeData(method='tf-idf')\n",
    "train_tokens, vectorizer_tokens = token_toVect.fit(all_data[\"tokens\"])"
   ]
  },
  {
   "cell_type": "code",
   "execution_count": 83,
   "metadata": {},
   "outputs": [],
   "source": [
    "train_lemma, vectorizer_lemma = token_toVect.fit(all_data[\"lemma\"])"
   ]
  },
  {
   "cell_type": "code",
   "execution_count": 84,
   "metadata": {},
   "outputs": [
    {
     "name": "stdout",
     "output_type": "stream",
     "text": [
      "(7585, 12381) (7585, 14786) (7585, 60000)\n"
     ]
    }
   ],
   "source": [
    "print(train_lemma.shape, train_tokens.shape, train_gram.shape)"
   ]
  },
  {
   "cell_type": "code",
   "execution_count": 85,
   "metadata": {},
   "outputs": [],
   "source": [
    "feature_set = { 'lemma': train_lemma,\n",
    "                'tokens': train_tokens,\n",
    "                'gramk2': train_gram\n",
    "}"
   ]
  },
  {
   "cell_type": "code",
   "execution_count": 86,
   "metadata": {},
   "outputs": [],
   "source": [
    "lb = LabelEncoder()\n",
    "y_train = lb.fit_transform(all_data['label'])"
   ]
  },
  {
   "cell_type": "code",
   "execution_count": 87,
   "metadata": {},
   "outputs": [],
   "source": [
    "cv = CrossValidation(models=[\"LogisticRegression\"], \n",
    "                     scores = [\"auc\", \"mcc\", \"f1\", \"recall\", \"precision\"],\n",
    "                     params_file = \"./param_file.txt\")"
   ]
  },
  {
   "cell_type": "code",
   "execution_count": 88,
   "metadata": {},
   "outputs": [],
   "source": [
    "models_dict = {}"
   ]
  },
  {
   "cell_type": "code",
   "execution_count": 89,
   "metadata": {},
   "outputs": [
    {
     "name": "stdout",
     "output_type": "stream",
     "text": [
      "START WITH: \n",
      "lemma\n",
      "Model: LogisticRegression\n",
      "Searching the best LogisticRegression with grid search cv...\n",
      "\n",
      "Best_estimator: LogisticRegression(C=1, class_weight=None, dual=False, fit_intercept=True,\n",
      "          intercept_scaling=1, max_iter=100, multi_class='ovr', n_jobs=1,\n",
      "          penalty='l2', random_state=None, solver='liblinear', tol=0.0001,\n",
      "          verbose=0, warm_start=False)\n",
      "\n",
      "Best_scores: 0.9519744242103475\n",
      "Evaluate the best model configuration with a new cross validation...\n",
      "\n",
      "Finish\n",
      "START WITH: \n",
      "tokens\n",
      "Model: LogisticRegression\n",
      "Searching the best LogisticRegression with grid search cv...\n",
      "\n",
      "Best_estimator: LogisticRegression(C=1, class_weight=None, dual=False, fit_intercept=True,\n",
      "          intercept_scaling=1, max_iter=100, multi_class='ovr', n_jobs=1,\n",
      "          penalty='l2', random_state=None, solver='liblinear', tol=0.0001,\n",
      "          verbose=0, warm_start=False)\n",
      "\n",
      "Best_scores: 0.9509264347296913\n",
      "Evaluate the best model configuration with a new cross validation...\n",
      "\n",
      "Finish\n",
      "START WITH: \n",
      "gramk2\n",
      "Model: LogisticRegression\n",
      "Searching the best LogisticRegression with grid search cv...\n",
      "\n",
      "Best_estimator: LogisticRegression(C=0.3, class_weight=None, dual=False, fit_intercept=False,\n",
      "          intercept_scaling=1, max_iter=100, multi_class='ovr', n_jobs=1,\n",
      "          penalty='l2', random_state=None, solver='liblinear', tol=0.0001,\n",
      "          verbose=0, warm_start=False)\n",
      "\n",
      "Best_scores: 0.9247622526295455\n",
      "Evaluate the best model configuration with a new cross validation...\n",
      "\n",
      "Finish\n",
      "CPU times: user 10.5 s, sys: 506 ms, total: 11 s\n",
      "Wall time: 12.5 s\n"
     ]
    }
   ],
   "source": [
    "%%time \n",
    "\n",
    "for key, value in feature_set.items():\n",
    "    print(\"START WITH: \\n{}\".format(key))\n",
    "    res, model = cv.fit_cv(value, y_train)\n",
    "    models_dict[key] = model\n",
    "    res.to_csv('results/{}.csv'.format(key))"
   ]
  },
  {
   "cell_type": "markdown",
   "metadata": {},
   "source": [
    "### Conclusion and final evaluation "
   ]
  },
  {
   "cell_type": "code",
   "execution_count": 90,
   "metadata": {},
   "outputs": [],
   "source": [
    "y_test = lb.fit_transform(new_test['label'])"
   ]
  },
  {
   "cell_type": "code",
   "execution_count": 91,
   "metadata": {},
   "outputs": [],
   "source": [
    "x_test  = vectorizer_lemma.transform(new_test[\"lemma\"].apply(str))"
   ]
  },
  {
   "cell_type": "code",
   "execution_count": 92,
   "metadata": {},
   "outputs": [
    {
     "name": "stdout",
     "output_type": "stream",
     "text": [
      "F1 Logistic Regression on test set: 0.7979539641943735\n",
      "AUC Logistic Regression on test set: 0.8028846153846154\n",
      "MCC Logistic Regression on test set: 0.6052919875803631\n",
      "Precision Logistic Regression on test set: 0.7839195979899497\n"
     ]
    }
   ],
   "source": [
    "lr = models_dict['lemma']['LogisticRegression']\n",
    "y_predicted = lr.predict(x_test)\n",
    "\n",
    "print(\"F1 Logistic Regression on test set:\", f1_score(y_test, y_predicted))\n",
    "print(\"AUC Logistic Regression on test set:\", roc_auc_score(y_test, y_predicted))\n",
    "print(\"MCC Logistic Regression on test set:\", matthews_corrcoef(y_test, y_predicted))\n",
    "print(\"Precision Logistic Regression on test set:\", precision_score(y_test, y_predicted))"
   ]
  },
  {
   "cell_type": "markdown",
   "metadata": {},
   "source": [
    "By using the model fitted on the original training set with the pseudo-labeled set, we can see that we have an improvement of about 10% in our scores. Also, the confidence of our model seems better. "
   ]
  },
  {
   "cell_type": "code",
   "execution_count": 93,
   "metadata": {},
   "outputs": [],
   "source": [
    "prob = lr.predict_proba(x_test)"
   ]
  },
  {
   "cell_type": "code",
   "execution_count": 94,
   "metadata": {},
   "outputs": [],
   "source": [
    "confidence_score = prob[:,1] - prob[:,0]"
   ]
  },
  {
   "cell_type": "code",
   "execution_count": 95,
   "metadata": {},
   "outputs": [],
   "source": [
    "df = new_test.copy()\n",
    "df['score'] = confidence_score\n",
    "df['label_predicted'] = y_predicted"
   ]
  },
  {
   "cell_type": "code",
   "execution_count": 96,
   "metadata": {},
   "outputs": [
    {
     "data": {
      "image/png": "[encoded data removed]",
      "text/plain": [
       "<Figure size 720x432 with 1 Axes>"
      ]
     },
     "metadata": {},
     "output_type": "display_data"
    }
   ],
   "source": [
    "plt.figure(figsize=(10,6))\n",
    "sns.distplot(confidence_score, kde=False, bins=20)\n",
    "plt.show()"
   ]
  },
  {
   "cell_type": "markdown",
   "metadata": {},
   "source": [
    "Even the most predictive features are better:"
   ]
  },
  {
   "cell_type": "code",
   "execution_count": 97,
   "metadata": {},
   "outputs": [
    {
     "data": {
      "text/plain": [
       "{0: {'bottom': [(-1.2633272479328221, 'school'),\n",
       "   (-1.264364815413947, 'truck'),\n",
       "   (-1.281964904665663, 'game'),\n",
       "   (-1.3025146373400616, 'woman'),\n",
       "   (-1.3283092450986669, 'bad'),\n",
       "   (-1.341768673556547, 'driver'),\n",
       "   (-1.4172654330189658, 'run'),\n",
       "   (-1.4373490317635977, 'trump'),\n",
       "   (-1.4849473454662827, 'kid'),\n",
       "   (-1.4912839979661814, 'show'),\n",
       "   (-1.550973561597181, 'way'),\n",
       "   (-1.5964932308040678, 'say'),\n",
       "   (-1.642219538334741, 'die'),\n",
       "   (-1.8538739291344188, 'people'),\n",
       "   (-1.917537093925974, 'amp'),\n",
       "   (-2.297227887010879, 'hit'),\n",
       "   (-2.425206161276598, 'vehicle'),\n",
       "   (-2.5111520708793957, 'break'),\n",
       "   (-4.47546734486943, 'crash'),\n",
       "   (-5.939859062069736, 'car')],\n",
       "  'tops': [(2.076837051358658, 'month'),\n",
       "   (2.1241817365653644, 'weekend'),\n",
       "   (2.1243683016313306, 'world'),\n",
       "   (2.1277694757142616, 'to'),\n",
       "   (2.1724824249054846, 'day'),\n",
       "   (2.261428729804724, 'thank'),\n",
       "   (2.2990351652562984, 'city'),\n",
       "   (2.347565400425259, 'tomorrow'),\n",
       "   (2.409571583380099, 'need'),\n",
       "   (2.533599431416559, 'time'),\n",
       "   (2.8221601736599933, 'place'),\n",
       "   (2.9025080643781727, 'visit'),\n",
       "   (3.0656140940242436, 'want'),\n",
       "   (3.260211321218834, 'next'),\n",
       "   (3.4128057626413533, 'year'),\n",
       "   (3.638429678712292, 'love'),\n",
       "   (4.80705872679986, 'plan'),\n",
       "   (7.179351043336206, 'go'),\n",
       "   (11.367137100345447, 'travel'),\n",
       "   (13.815160642022835, 'trip')]}}"
      ]
     },
     "execution_count": 97,
     "metadata": {},
     "output_type": "execute_result"
    }
   ],
   "source": [
    "importance = get_most_important_features(vectorizer_lemma, lr, n=20)\n",
    "importance"
   ]
  },
  {
   "cell_type": "markdown",
   "metadata": {},
   "source": [
    "The precision of the final model can also be increase by changing the decision threshold. Obviously, if you want to increase the precision you have to reduce the recall. The final configuration can be set using the business knowledge of our specific problem."
   ]
  },
  {
   "cell_type": "code",
   "execution_count": 116,
   "metadata": {},
   "outputs": [],
   "source": [
    "def my_prediction(score):\n",
    "    if score > 0.5:\n",
    "        return 1\n",
    "    else:\n",
    "        return 0"
   ]
  },
  {
   "cell_type": "code",
   "execution_count": 117,
   "metadata": {},
   "outputs": [],
   "source": [
    "my_pred = df['score'].apply(my_prediction)"
   ]
  },
  {
   "cell_type": "code",
   "execution_count": 118,
   "metadata": {},
   "outputs": [
    {
     "name": "stdout",
     "output_type": "stream",
     "text": [
      "F1 Logistic Regression on test set: 0.6645367412140575\n",
      "AUC Logistic Regression on test set: 0.7299679487179486\n",
      "MCC Logistic Regression on test set: 0.5002473562177442\n",
      "Precision Logistic Regression on test set: 0.859504132231405\n"
     ]
    }
   ],
   "source": [
    "print(\"F1 Logistic Regression on test set:\", f1_score(y_test, my_pred))\n",
    "print(\"AUC Logistic Regression on test set:\", roc_auc_score(y_test, my_pred))\n",
    "print(\"MCC Logistic Regression on test set:\", matthews_corrcoef(y_test, my_pred))\n",
    "print(\"Precision Logistic Regression on test set:\", precision_score(y_test, my_pred))"
   ]
  },
  {
   "cell_type": "markdown",
   "metadata": {},
   "source": [
    "### Saving the final model "
   ]
  },
  {
   "cell_type": "code",
   "execution_count": 105,
   "metadata": {},
   "outputs": [
    {
     "data": {
      "text/plain": [
       "['vectorizer.pkl']"
      ]
     },
     "execution_count": 105,
     "metadata": {},
     "output_type": "execute_result"
    }
   ],
   "source": [
    "joblib.dump(vectorizer_lemma, 'vectorizer.pkl')"
   ]
  },
  {
   "cell_type": "code",
   "execution_count": 106,
   "metadata": {},
   "outputs": [
    {
     "data": {
      "text/plain": [
       "['logistic_regression.pkl']"
      ]
     },
     "execution_count": 106,
     "metadata": {},
     "output_type": "execute_result"
    }
   ],
   "source": [
    "joblib.dump(lr, 'logistic_regression.pkl')"
   ]
  },
  {
   "cell_type": "markdown",
   "metadata": {},
   "source": [
    "# Next steps and possibles improvements"
   ]
  },
  {
   "cell_type": "markdown",
   "metadata": {},
   "source": [
    "### Use large pre-trained language model for transfer learning "
   ]
  },
  {
   "cell_type": "markdown",
   "metadata": {},
   "source": [
    "Transfer Learning has greatly impacted computer vision. Using a pre-trained ConvNet on ImageNet as initialization or fine-tuning it to your task at hand has become very common. In NLP we have some neural model pre-trained like ULMFiT. This model provides a Universal Language Model, pre-trained on millions of Wikipedia pages, which we can fine-tune to our specific domain space. Then, we can train a text classification model that leverages the LM’s learned text representations which can learn with very few examples (up to 100x less data).\n",
    "The advantages are that with linguistic model like that it's possible to modelize the semantic of the text and better understand the meaning of the content. "
   ]
  },
  {
   "cell_type": "markdown",
   "metadata": {},
   "source": [
    "### Create a recommendation engine for more than one product category"
   ]
  },
  {
   "cell_type": "markdown",
   "metadata": {},
   "source": [
    "Using this kind of approach it's simple to imagine a \"bigger\" engine that can be use to indentify more needs/topics inside the social data and suggest more than one kind of product/item, supporting also a mulitlabelling classification. In fact, if we suppose to create for each of these label a specific binary classifier, each of then trained on a specific domain, is simple to collect all of these models inside an high level \"Black Box\". This approach is like a stacking of ML models and the finals recommendation rules can be obtain by apply a new super-learner model or bussiness logic rules on the predicted probabilities."
   ]
  },
  {
   "cell_type": "markdown",
   "metadata": {},
   "source": [
    "<img src=\"img/stack_model.png\" height=\"700\" width=\"800\">"
   ]
  },
  {
   "cell_type": "code",
   "execution_count": null,
   "metadata": {},
   "outputs": [],
   "source": []
  }
 ],
 "metadata": {
  "kernelspec": {
   "display_name": "Python 3",
   "language": "python",
   "name": "python3"
  },
  "language_info": {
   "codemirror_mode": {
    "name": "ipython",
    "version": 3
   },
   "file_extension": ".py",
   "mimetype": "text/x-python",
   "name": "python",
   "nbconvert_exporter": "python",
   "pygments_lexer": "ipython3",
   "version": "3.6.7"
  }
 },
 "nbformat": 4,
 "nbformat_minor": 2
}
